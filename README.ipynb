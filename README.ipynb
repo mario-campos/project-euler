{
 "cells": [
  {
   "cell_type": "markdown",
   "metadata": {},
   "source": [
    "# Euler 1\n",
    "\n",
    "Let's define a function, $multiples(x)$, that will return the multiples of some natural number, $x$. So, for $x = 3$, $multiples(3)$ would return $(3,6,9,\\dots)$."
   ]
  },
  {
   "cell_type": "code",
   "execution_count": 1,
   "metadata": {
    "collapsed": true
   },
   "outputs": [],
   "source": [
    "multiples :: Int -> [Int]\n",
    "multiples x = iterate (+x) x"
   ]
  },
  {
   "cell_type": "code",
   "execution_count": 2,
   "metadata": {
    "collapsed": false
   },
   "outputs": [
    {
     "data": {
      "text/plain": [
       "[3,6,9]"
      ]
     },
     "metadata": {},
     "output_type": "display_data"
    }
   ],
   "source": [
    "print $ take 3 (multiples 3)"
   ]
  },
  {
   "cell_type": "markdown",
   "metadata": {},
   "source": [
    "Problem 1 states, \"Find the sum of all multiples of 3 *or* 5 below 1000,\" which leads me to suspect that I cannot just join the return values of `multiples 3` and `multiples 5`, since that would include the multiples of 3 *and* 5 twice! For example:\n",
    "\n",
    "$$\n",
    "\\begin{align}\n",
    "multiples(3) &= (3,6,9,12,15,18,\\dots) \\\\\n",
    "multiples(5) &= (5,10,15,20,\\dots)\n",
    "\\end{align}\n",
    "$$\n",
    "    \n",
    "The 15 would be included twice in the sum, which would be wrong. For this reason, I run the output values into a set, *and then* join them, leaving only unique natural numbers--no duplicates.\n",
    "\n",
    "$$\n",
    "\\begin{align}\n",
    "\\{multiples(3)\\} \\cup \\{multiples(5)\\} &= \\{3,6,9,12,15,18,\\dots\\} \\cup \\{5,10,15,20,\\dots\\} \\\\\n",
    "&= \\{3,5,6,9,10,12,15,18,20,\\dots\\}\n",
    "\\end{align}\n",
    "$$"
   ]
  },
  {
   "cell_type": "code",
   "execution_count": 3,
   "metadata": {
    "collapsed": false
   },
   "outputs": [],
   "source": [
    "import Data.IntSet (toList, fromDistinctAscList, union)\n",
    "\n",
    "euler1 n = sum $ toList $ union mults3 mults5\n",
    "  where mults3 = fromDistinctAscList $ takeWhile (<n) (multiples 3)\n",
    "        mults5 = fromDistinctAscList $ takeWhile (<n) (multiples 5)"
   ]
  },
  {
   "cell_type": "markdown",
   "metadata": {
    "collapsed": true
   },
   "source": [
    "Sanity Test:"
   ]
  },
  {
   "cell_type": "code",
   "execution_count": 4,
   "metadata": {
    "collapsed": false
   },
   "outputs": [
    {
     "data": {
      "text/plain": [
       "True"
      ]
     },
     "metadata": {},
     "output_type": "display_data"
    }
   ],
   "source": [
    "print (euler1 10 == 23)"
   ]
  },
  {
   "cell_type": "code",
   "execution_count": 5,
   "metadata": {
    "collapsed": false
   },
   "outputs": [
    {
     "data": {
      "text/plain": [
       "233168"
      ]
     },
     "metadata": {},
     "output_type": "display_data"
    }
   ],
   "source": [
    "print (euler1 1000)"
   ]
  },
  {
   "cell_type": "markdown",
   "metadata": {},
   "source": [
    "# Euler 2\n",
    "\n",
    "We'll need the Fibonacci sequence:"
   ]
  },
  {
   "cell_type": "code",
   "execution_count": 12,
   "metadata": {
    "collapsed": false
   },
   "outputs": [],
   "source": [
    "fib :: [Int]\n",
    "fib = 0 : 1 : [ a + b | (a, b) <- zip fib (tail fib)]"
   ]
  },
  {
   "cell_type": "code",
   "execution_count": 8,
   "metadata": {
    "collapsed": false
   },
   "outputs": [
    {
     "data": {
      "text/plain": [
       "[0,1,1,2,3,5,8,13,21,34]"
      ]
     },
     "metadata": {},
     "output_type": "display_data"
    }
   ],
   "source": [
    "print (take 10 fib)"
   ]
  },
  {
   "cell_type": "markdown",
   "metadata": {},
   "source": [
    "The solution, then, is simply a matter of filtering out the evens and summing it altogether:"
   ]
  },
  {
   "cell_type": "code",
   "execution_count": 18,
   "metadata": {
    "collapsed": false
   },
   "outputs": [],
   "source": [
    "euler2 n = sum . filter even $ takeWhile (<n) fib"
   ]
  },
  {
   "cell_type": "code",
   "execution_count": 19,
   "metadata": {
    "collapsed": false
   },
   "outputs": [
    {
     "data": {
      "text/plain": [
       "4613732"
      ]
     },
     "metadata": {},
     "output_type": "display_data"
    }
   ],
   "source": [
    "print (euler2 4000000)"
   ]
  },
  {
   "cell_type": "markdown",
   "metadata": {},
   "source": [
    "# Euler 3\n",
    "\n",
    "To find the prime factors of a large number, we'll need at least two main functions. $prime(n)$ will be necessary to determine whether a number is prime. And $factors(n)$ will be important to return the set of factors of a number."
   ]
  },
  {
   "cell_type": "code",
   "execution_count": 5,
   "metadata": {
    "collapsed": true
   },
   "outputs": [],
   "source": [
    "import Data.IntSet as IntSet\n",
    "\n",
    "hasFactor :: Int -> Int -> Bool\n",
    "hasFactor n x = n `mod` x == 0\n",
    "\n",
    "factors :: Int -> IntSet\n",
    "factors n = fromList $ Prelude.filter (hasFactor n) [1..n]\n",
    "\n",
    "prime :: Int -> Bool\n",
    "prime n = factors n == fromList [1, n]"
   ]
  },
  {
   "cell_type": "markdown",
   "metadata": {},
   "source": [
    "`hasFactor` is a small helper function, syntactic sugar that determines whether an integer is a factor of another integer, by determining whether or not it evenly divides it."
   ]
  },
  {
   "cell_type": "code",
   "execution_count": 3,
   "metadata": {
    "collapsed": false
   },
   "outputs": [
    {
     "data": {
      "text/plain": [
       "True"
      ]
     },
     "metadata": {},
     "output_type": "display_data"
    }
   ],
   "source": [
    "print (10 `hasFactor` 2)"
   ]
  },
  {
   "cell_type": "code",
   "execution_count": 4,
   "metadata": {
    "collapsed": false
   },
   "outputs": [
    {
     "data": {
      "text/plain": [
       "False"
      ]
     },
     "metadata": {},
     "output_type": "display_data"
    }
   ],
   "source": [
    "print (15 `hasFactor` 2)"
   ]
  },
  {
   "cell_type": "markdown",
   "metadata": {},
   "source": [
    "With `hasFactor`, we can construct `factors` to produce the set of factors of an integer:"
   ]
  },
  {
   "cell_type": "code",
   "execution_count": 6,
   "metadata": {
    "collapsed": false
   },
   "outputs": [
    {
     "data": {
      "text/plain": [
       "fromList [1,5,25]"
      ]
     },
     "metadata": {},
     "output_type": "display_data"
    }
   ],
   "source": [
    "print (factors 25)"
   ]
  },
  {
   "cell_type": "markdown",
   "metadata": {},
   "source": [
    "With `factors`, we can then determine whether a number is prime, since prime numbers only have two factors: 1 and itself."
   ]
  },
  {
   "cell_type": "code",
   "execution_count": 7,
   "metadata": {
    "collapsed": false
   },
   "outputs": [
    {
     "data": {
      "text/plain": [
       "fromList [1,11]"
      ]
     },
     "metadata": {},
     "output_type": "display_data"
    }
   ],
   "source": [
    "print (factors 11)"
   ]
  },
  {
   "cell_type": "code",
   "execution_count": 8,
   "metadata": {
    "collapsed": false
   },
   "outputs": [
    {
     "data": {
      "text/plain": [
       "True"
      ]
     },
     "metadata": {},
     "output_type": "display_data"
    }
   ],
   "source": [
    "print (prime 11)"
   ]
  },
  {
   "cell_type": "markdown",
   "metadata": {},
   "source": [
    "The rest is easy. We simply compose all of these functions together! Functional Programming FTW!"
   ]
  },
  {
   "cell_type": "code",
   "execution_count": 10,
   "metadata": {
    "collapsed": true
   },
   "outputs": [],
   "source": [
    "primeFactors :: Int -> IntSet\n",
    "primeFactors = IntSet.filter prime . factors\n",
    "\n",
    "euler3 = findMax . primeFactors"
   ]
  },
  {
   "cell_type": "markdown",
   "metadata": {},
   "source": [
    "We can run a little test here by using the example in Problem 3:"
   ]
  },
  {
   "cell_type": "code",
   "execution_count": 11,
   "metadata": {
    "collapsed": false
   },
   "outputs": [
    {
     "data": {
      "text/plain": [
       "29"
      ]
     },
     "metadata": {},
     "output_type": "display_data"
    }
   ],
   "source": [
    "print (euler3 13195)"
   ]
  },
  {
   "cell_type": "markdown",
   "metadata": {},
   "source": [
    "Unfortunately, the solution that I have just elegantly described above is not ideal. While it works, it's horribly inefficient with a large enough input. I had to `kill` it at 40 minutes in when I realized it would be a *long* while before it solved Problem 3.\n",
    "\n",
    "We need a better solution."
   ]
  }
 ],
 "metadata": {
  "kernelspec": {
   "display_name": "Haskell",
   "language": "haskell",
   "name": "haskell"
  },
  "language_info": {
   "codemirror_mode": "ihaskell",
   "file_extension": ".hs",
   "name": "haskell",
   "version": "7.8.4"
  }
 },
 "nbformat": 4,
 "nbformat_minor": 0
}
