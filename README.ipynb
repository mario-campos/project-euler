{
 "cells": [
  {
   "cell_type": "markdown",
   "metadata": {},
   "source": [
    "# Euler 1\n",
    "\n",
    "Let's define a function, $multiples(x)$, that will return the multiples of some natural number, $x$. So, for $x = 3$, $multiples(3)$ would return $(3,6,9,\\dots)$."
   ]
  },
  {
   "cell_type": "code",
   "execution_count": 1,
   "metadata": {
    "collapsed": true
   },
   "outputs": [],
   "source": [
    "multiples :: Int -> [Int]\n",
    "multiples x = iterate (+x) x"
   ]
  },
  {
   "cell_type": "code",
   "execution_count": 2,
   "metadata": {
    "collapsed": false
   },
   "outputs": [
    {
     "data": {
      "text/plain": [
       "[3,6,9]"
      ]
     },
     "metadata": {},
     "output_type": "display_data"
    }
   ],
   "source": [
    "print $ take 3 (multiples 3)"
   ]
  },
  {
   "cell_type": "markdown",
   "metadata": {},
   "source": [
    "Problem 1 states, \"Find the sum of all multiples of 3 *or* 5 below 1000,\" which leads me to suspect that I cannot just join the return values of `multiples 3` and `multiples 5`, since that would include the multiples of 3 *and* 5 twice! For example:\n",
    "\n",
    "$$\n",
    "\\begin{align}\n",
    "multiples(3) &= (3,6,9,12,15,18,\\dots) \\\\\n",
    "multiples(5) &= (5,10,15,20,\\dots)\n",
    "\\end{align}\n",
    "$$\n",
    "    \n",
    "The 15 would be included twice in the sum, which would be wrong. For this reason, I run the output values into a set, *and then* join them, leaving only unique natural numbers--no duplicates.\n",
    "\n",
    "$$\n",
    "\\begin{align}\n",
    "\\{multiples(3)\\} \\cup \\{multiples(5)\\} &= \\{3,6,9,12,15,18,\\dots\\} \\cup \\{5,10,15,20,\\dots\\} \\\\\n",
    "&= \\{3,5,6,9,10,12,15,18,20,\\dots\\}\n",
    "\\end{align}\n",
    "$$"
   ]
  },
  {
   "cell_type": "code",
   "execution_count": 3,
   "metadata": {
    "collapsed": false
   },
   "outputs": [],
   "source": [
    "import Data.IntSet (toList, fromDistinctAscList, union)\n",
    "\n",
    "euler1 n = sum $ toList $ union mults3 mults5\n",
    "  where mults3 = fromDistinctAscList $ takeWhile (<n) (multiples 3)\n",
    "        mults5 = fromDistinctAscList $ takeWhile (<n) (multiples 5)"
   ]
  },
  {
   "cell_type": "markdown",
   "metadata": {
    "collapsed": true
   },
   "source": [
    "Sanity Test:"
   ]
  },
  {
   "cell_type": "code",
   "execution_count": 4,
   "metadata": {
    "collapsed": false
   },
   "outputs": [
    {
     "data": {
      "text/plain": [
       "True"
      ]
     },
     "metadata": {},
     "output_type": "display_data"
    }
   ],
   "source": [
    "print (euler1 10 == 23)"
   ]
  },
  {
   "cell_type": "code",
   "execution_count": 5,
   "metadata": {
    "collapsed": false
   },
   "outputs": [
    {
     "data": {
      "text/plain": [
       "233168"
      ]
     },
     "metadata": {},
     "output_type": "display_data"
    }
   ],
   "source": [
    "print (euler1 1000)"
   ]
  }
 ],
 "metadata": {
  "kernelspec": {
   "display_name": "Haskell",
   "language": "haskell",
   "name": "haskell"
  },
  "language_info": {
   "codemirror_mode": "ihaskell",
   "file_extension": ".hs",
   "name": "haskell",
   "version": "7.8.4"
  }
 },
 "nbformat": 4,
 "nbformat_minor": 0
}
